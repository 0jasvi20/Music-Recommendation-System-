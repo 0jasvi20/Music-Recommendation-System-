{
 "cells": [
  {
   "cell_type": "code",
   "execution_count": 137,
   "id": "194212cd-0105-4b5f-917a-0a108db21dd7",
   "metadata": {},
   "outputs": [],
   "source": [
    "import pandas as pd"
   ]
  },
  {
   "cell_type": "code",
   "execution_count": 141,
   "id": "a774cabb-8505-4de1-a2d4-3e1eaa6628f1",
   "metadata": {},
   "outputs": [
    {
     "data": {
      "text/html": [
       "<div>\n",
       "<style scoped>\n",
       "    .dataframe tbody tr th:only-of-type {\n",
       "        vertical-align: middle;\n",
       "    }\n",
       "\n",
       "    .dataframe tbody tr th {\n",
       "        vertical-align: top;\n",
       "    }\n",
       "\n",
       "    .dataframe thead th {\n",
       "        text-align: right;\n",
       "    }\n",
       "</style>\n",
       "<table border=\"1\" class=\"dataframe\">\n",
       "  <thead>\n",
       "    <tr style=\"text-align: right;\">\n",
       "      <th></th>\n",
       "      <th>artist</th>\n",
       "      <th>song</th>\n",
       "      <th>link</th>\n",
       "      <th>text</th>\n",
       "    </tr>\n",
       "  </thead>\n",
       "  <tbody>\n",
       "    <tr>\n",
       "      <th>0</th>\n",
       "      <td>ABBA</td>\n",
       "      <td>Ahe's My Kind Of Girl</td>\n",
       "      <td>/a/abba/ahes+my+kind+of+girl_20598417.html</td>\n",
       "      <td>Look at her face, it's a wonderful face  \\r\\nA...</td>\n",
       "    </tr>\n",
       "    <tr>\n",
       "      <th>1</th>\n",
       "      <td>ABBA</td>\n",
       "      <td>Andante, Andante</td>\n",
       "      <td>/a/abba/andante+andante_20002708.html</td>\n",
       "      <td>Take it easy with me, please  \\r\\nTouch me gen...</td>\n",
       "    </tr>\n",
       "    <tr>\n",
       "      <th>2</th>\n",
       "      <td>ABBA</td>\n",
       "      <td>As Good As New</td>\n",
       "      <td>/a/abba/as+good+as+new_20003033.html</td>\n",
       "      <td>I'll never know why I had to go  \\r\\nWhy I had...</td>\n",
       "    </tr>\n",
       "    <tr>\n",
       "      <th>3</th>\n",
       "      <td>ABBA</td>\n",
       "      <td>Bang</td>\n",
       "      <td>/a/abba/bang_20598415.html</td>\n",
       "      <td>Making somebody happy is a question of give an...</td>\n",
       "    </tr>\n",
       "    <tr>\n",
       "      <th>4</th>\n",
       "      <td>ABBA</td>\n",
       "      <td>Bang-A-Boomerang</td>\n",
       "      <td>/a/abba/bang+a+boomerang_20002668.html</td>\n",
       "      <td>Making somebody happy is a question of give an...</td>\n",
       "    </tr>\n",
       "    <tr>\n",
       "      <th>...</th>\n",
       "      <td>...</td>\n",
       "      <td>...</td>\n",
       "      <td>...</td>\n",
       "      <td>...</td>\n",
       "    </tr>\n",
       "    <tr>\n",
       "      <th>57645</th>\n",
       "      <td>Ziggy Marley</td>\n",
       "      <td>Good Old Days</td>\n",
       "      <td>/z/ziggy+marley/good+old+days_10198588.html</td>\n",
       "      <td>Irie days come on play  \\r\\nLet the angels fly...</td>\n",
       "    </tr>\n",
       "    <tr>\n",
       "      <th>57646</th>\n",
       "      <td>Ziggy Marley</td>\n",
       "      <td>Hand To Mouth</td>\n",
       "      <td>/z/ziggy+marley/hand+to+mouth_20531167.html</td>\n",
       "      <td>Power to the workers  \\r\\nMore power  \\r\\nPowe...</td>\n",
       "    </tr>\n",
       "    <tr>\n",
       "      <th>57647</th>\n",
       "      <td>Zwan</td>\n",
       "      <td>Come With Me</td>\n",
       "      <td>/z/zwan/come+with+me_20148981.html</td>\n",
       "      <td>all you need  \\r\\nis something i'll believe  \\...</td>\n",
       "    </tr>\n",
       "    <tr>\n",
       "      <th>57648</th>\n",
       "      <td>Zwan</td>\n",
       "      <td>Desire</td>\n",
       "      <td>/z/zwan/desire_20148986.html</td>\n",
       "      <td>northern star  \\r\\nam i frightened  \\r\\nwhere ...</td>\n",
       "    </tr>\n",
       "    <tr>\n",
       "      <th>57649</th>\n",
       "      <td>Zwan</td>\n",
       "      <td>Heartsong</td>\n",
       "      <td>/z/zwan/heartsong_20148991.html</td>\n",
       "      <td>come in  \\r\\nmake yourself at home  \\r\\ni'm a ...</td>\n",
       "    </tr>\n",
       "  </tbody>\n",
       "</table>\n",
       "<p>57650 rows × 4 columns</p>\n",
       "</div>"
      ],
      "text/plain": [
       "             artist                   song  \\\n",
       "0              ABBA  Ahe's My Kind Of Girl   \n",
       "1              ABBA       Andante, Andante   \n",
       "2              ABBA         As Good As New   \n",
       "3              ABBA                   Bang   \n",
       "4              ABBA       Bang-A-Boomerang   \n",
       "...             ...                    ...   \n",
       "57645  Ziggy Marley          Good Old Days   \n",
       "57646  Ziggy Marley          Hand To Mouth   \n",
       "57647          Zwan           Come With Me   \n",
       "57648          Zwan                 Desire   \n",
       "57649          Zwan              Heartsong   \n",
       "\n",
       "                                              link  \\\n",
       "0       /a/abba/ahes+my+kind+of+girl_20598417.html   \n",
       "1            /a/abba/andante+andante_20002708.html   \n",
       "2             /a/abba/as+good+as+new_20003033.html   \n",
       "3                       /a/abba/bang_20598415.html   \n",
       "4           /a/abba/bang+a+boomerang_20002668.html   \n",
       "...                                            ...   \n",
       "57645  /z/ziggy+marley/good+old+days_10198588.html   \n",
       "57646  /z/ziggy+marley/hand+to+mouth_20531167.html   \n",
       "57647           /z/zwan/come+with+me_20148981.html   \n",
       "57648                 /z/zwan/desire_20148986.html   \n",
       "57649              /z/zwan/heartsong_20148991.html   \n",
       "\n",
       "                                                    text  \n",
       "0      Look at her face, it's a wonderful face  \\r\\nA...  \n",
       "1      Take it easy with me, please  \\r\\nTouch me gen...  \n",
       "2      I'll never know why I had to go  \\r\\nWhy I had...  \n",
       "3      Making somebody happy is a question of give an...  \n",
       "4      Making somebody happy is a question of give an...  \n",
       "...                                                  ...  \n",
       "57645  Irie days come on play  \\r\\nLet the angels fly...  \n",
       "57646  Power to the workers  \\r\\nMore power  \\r\\nPowe...  \n",
       "57647  all you need  \\r\\nis something i'll believe  \\...  \n",
       "57648  northern star  \\r\\nam i frightened  \\r\\nwhere ...  \n",
       "57649  come in  \\r\\nmake yourself at home  \\r\\ni'm a ...  \n",
       "\n",
       "[57650 rows x 4 columns]"
      ]
     },
     "execution_count": 141,
     "metadata": {},
     "output_type": "execute_result"
    }
   ],
   "source": [
    "pd.read_csv(\"spotify_millsongdata.csv\")"
   ]
  },
  {
   "cell_type": "code",
   "execution_count": 143,
   "id": "96f45e34-d854-400f-a8de-f23e64d5b758",
   "metadata": {},
   "outputs": [],
   "source": [
    "df=pd.read_csv(\"spotify_millsongdata.csv\")"
   ]
  },
  {
   "cell_type": "code",
   "execution_count": 145,
   "id": "e162a739-1739-4d94-ab81-7bbe6cfd6327",
   "metadata": {},
   "outputs": [
    {
     "data": {
      "text/html": [
       "<div>\n",
       "<style scoped>\n",
       "    .dataframe tbody tr th:only-of-type {\n",
       "        vertical-align: middle;\n",
       "    }\n",
       "\n",
       "    .dataframe tbody tr th {\n",
       "        vertical-align: top;\n",
       "    }\n",
       "\n",
       "    .dataframe thead th {\n",
       "        text-align: right;\n",
       "    }\n",
       "</style>\n",
       "<table border=\"1\" class=\"dataframe\">\n",
       "  <thead>\n",
       "    <tr style=\"text-align: right;\">\n",
       "      <th></th>\n",
       "      <th>artist</th>\n",
       "      <th>song</th>\n",
       "      <th>link</th>\n",
       "      <th>text</th>\n",
       "    </tr>\n",
       "  </thead>\n",
       "  <tbody>\n",
       "    <tr>\n",
       "      <th>0</th>\n",
       "      <td>ABBA</td>\n",
       "      <td>Ahe's My Kind Of Girl</td>\n",
       "      <td>/a/abba/ahes+my+kind+of+girl_20598417.html</td>\n",
       "      <td>Look at her face, it's a wonderful face  \\r\\nA...</td>\n",
       "    </tr>\n",
       "    <tr>\n",
       "      <th>1</th>\n",
       "      <td>ABBA</td>\n",
       "      <td>Andante, Andante</td>\n",
       "      <td>/a/abba/andante+andante_20002708.html</td>\n",
       "      <td>Take it easy with me, please  \\r\\nTouch me gen...</td>\n",
       "    </tr>\n",
       "    <tr>\n",
       "      <th>2</th>\n",
       "      <td>ABBA</td>\n",
       "      <td>As Good As New</td>\n",
       "      <td>/a/abba/as+good+as+new_20003033.html</td>\n",
       "      <td>I'll never know why I had to go  \\r\\nWhy I had...</td>\n",
       "    </tr>\n",
       "    <tr>\n",
       "      <th>3</th>\n",
       "      <td>ABBA</td>\n",
       "      <td>Bang</td>\n",
       "      <td>/a/abba/bang_20598415.html</td>\n",
       "      <td>Making somebody happy is a question of give an...</td>\n",
       "    </tr>\n",
       "    <tr>\n",
       "      <th>4</th>\n",
       "      <td>ABBA</td>\n",
       "      <td>Bang-A-Boomerang</td>\n",
       "      <td>/a/abba/bang+a+boomerang_20002668.html</td>\n",
       "      <td>Making somebody happy is a question of give an...</td>\n",
       "    </tr>\n",
       "    <tr>\n",
       "      <th>5</th>\n",
       "      <td>ABBA</td>\n",
       "      <td>Burning My Bridges</td>\n",
       "      <td>/a/abba/burning+my+bridges_20003011.html</td>\n",
       "      <td>Well, you hoot and you holler and you make me ...</td>\n",
       "    </tr>\n",
       "    <tr>\n",
       "      <th>6</th>\n",
       "      <td>ABBA</td>\n",
       "      <td>Cassandra</td>\n",
       "      <td>/a/abba/cassandra_20002811.html</td>\n",
       "      <td>Down in the street they're all singing and sho...</td>\n",
       "    </tr>\n",
       "    <tr>\n",
       "      <th>7</th>\n",
       "      <td>ABBA</td>\n",
       "      <td>Chiquitita</td>\n",
       "      <td>/a/abba/chiquitita_20002978.html</td>\n",
       "      <td>Chiquitita, tell me what's wrong  \\r\\nYou're e...</td>\n",
       "    </tr>\n",
       "    <tr>\n",
       "      <th>8</th>\n",
       "      <td>ABBA</td>\n",
       "      <td>Crazy World</td>\n",
       "      <td>/a/abba/crazy+world_20003013.html</td>\n",
       "      <td>I was out with the morning sun  \\r\\nCouldn't s...</td>\n",
       "    </tr>\n",
       "    <tr>\n",
       "      <th>9</th>\n",
       "      <td>ABBA</td>\n",
       "      <td>Crying Over You</td>\n",
       "      <td>/a/abba/crying+over+you_20177611.html</td>\n",
       "      <td>I'm waitin' for you baby  \\r\\nI'm sitting all ...</td>\n",
       "    </tr>\n",
       "  </tbody>\n",
       "</table>\n",
       "</div>"
      ],
      "text/plain": [
       "  artist                   song                                        link  \\\n",
       "0   ABBA  Ahe's My Kind Of Girl  /a/abba/ahes+my+kind+of+girl_20598417.html   \n",
       "1   ABBA       Andante, Andante       /a/abba/andante+andante_20002708.html   \n",
       "2   ABBA         As Good As New        /a/abba/as+good+as+new_20003033.html   \n",
       "3   ABBA                   Bang                  /a/abba/bang_20598415.html   \n",
       "4   ABBA       Bang-A-Boomerang      /a/abba/bang+a+boomerang_20002668.html   \n",
       "5   ABBA     Burning My Bridges    /a/abba/burning+my+bridges_20003011.html   \n",
       "6   ABBA              Cassandra             /a/abba/cassandra_20002811.html   \n",
       "7   ABBA             Chiquitita            /a/abba/chiquitita_20002978.html   \n",
       "8   ABBA            Crazy World           /a/abba/crazy+world_20003013.html   \n",
       "9   ABBA        Crying Over You       /a/abba/crying+over+you_20177611.html   \n",
       "\n",
       "                                                text  \n",
       "0  Look at her face, it's a wonderful face  \\r\\nA...  \n",
       "1  Take it easy with me, please  \\r\\nTouch me gen...  \n",
       "2  I'll never know why I had to go  \\r\\nWhy I had...  \n",
       "3  Making somebody happy is a question of give an...  \n",
       "4  Making somebody happy is a question of give an...  \n",
       "5  Well, you hoot and you holler and you make me ...  \n",
       "6  Down in the street they're all singing and sho...  \n",
       "7  Chiquitita, tell me what's wrong  \\r\\nYou're e...  \n",
       "8  I was out with the morning sun  \\r\\nCouldn't s...  \n",
       "9  I'm waitin' for you baby  \\r\\nI'm sitting all ...  "
      ]
     },
     "execution_count": 145,
     "metadata": {},
     "output_type": "execute_result"
    }
   ],
   "source": [
    "df.head(10)"
   ]
  },
  {
   "cell_type": "code",
   "execution_count": 147,
   "id": "d4d45bd2-4acd-4ea5-8a20-3b3b919e259b",
   "metadata": {},
   "outputs": [
    {
     "data": {
      "text/plain": [
       "(57650, 4)"
      ]
     },
     "execution_count": 147,
     "metadata": {},
     "output_type": "execute_result"
    }
   ],
   "source": [
    "df.shape"
   ]
  },
  {
   "cell_type": "code",
   "execution_count": 149,
   "id": "7b3f9f13-c8f2-402a-b26e-48d6cbdec53e",
   "metadata": {},
   "outputs": [
    {
     "data": {
      "text/plain": [
       "artist    0\n",
       "song      0\n",
       "link      0\n",
       "text      0\n",
       "dtype: int64"
      ]
     },
     "execution_count": 149,
     "metadata": {},
     "output_type": "execute_result"
    }
   ],
   "source": [
    "df.isnull().sum()"
   ]
  },
  {
   "cell_type": "code",
   "execution_count": 151,
   "id": "b634601d-bdd3-4b2b-a28a-66324023fde5",
   "metadata": {},
   "outputs": [],
   "source": [
    "df=df.sample(5000).drop('link',axis=1).reset_index(drop=True)"
   ]
  },
  {
   "cell_type": "code",
   "execution_count": 153,
   "id": "9bc32df9-3ff1-47d0-9193-58180893c77e",
   "metadata": {},
   "outputs": [
    {
     "data": {
      "text/plain": [
       "'Glad Tidings  \\r\\nWords by Ray Boltz, Steve Millikan, and Randy Melson, Music by Steve Millikan\\r\\nand Ray Boltz  \\r\\nIn the beginning was the Word  \\r\\nAnd the Word was with God  \\r\\nIn the beginning was the Word  \\r\\nAnd the Word was God  \\r\\nIn Him was Life the Light of men  \\r\\nThat shineth in the darkness  \\r\\nThe darkness did not comprehend  \\r\\nThis Light that dwelt among us  \\r\\nAnd so it was  \\r\\nThe lowly shepherds lay  \\r\\nAnd suddenly  \\r\\nThey heard an angel say  \\r\\nAs they were frightened by a great light  \\r\\nchorus:  \\r\\nGlad tidings to all the world  \\r\\nGlad tidings we bring  \\r\\nUnto you is born this day Emmanuel  \\r\\nA Savior and a King  \\r\\nThe angel said  \\r\\nNo need to be afraid  \\r\\nI bring you tidings of great joy  \\r\\nFor unto you is born this very day  \\r\\nA Savior, Jesus Christ the Lord  \\r\\nAnd then the heavens  \\r\\nWere filled with praise  \\r\\nchorus (repeat 2X)  \\r\\n1997 Shepherd Boy Musicascap (adm. By Word Music), Weedom\\r\\n\\r\\n'"
      ]
     },
     "execution_count": 153,
     "metadata": {},
     "output_type": "execute_result"
    }
   ],
   "source": [
    "df['text'][0]"
   ]
  },
  {
   "cell_type": "code",
   "execution_count": 155,
   "id": "9aa86a97-9024-44eb-973d-e00ec9cc7b51",
   "metadata": {},
   "outputs": [
    {
     "data": {
      "text/plain": [
       "(5000, 3)"
      ]
     },
     "execution_count": 155,
     "metadata": {},
     "output_type": "execute_result"
    }
   ],
   "source": [
    "df.shape"
   ]
  },
  {
   "cell_type": "markdown",
   "id": "8a8c036e-04d1-43b0-8a38-6ea3a7210736",
   "metadata": {},
   "source": [
    "TEXT CLEANING AND PREPROCESSING"
   ]
  },
  {
   "cell_type": "code",
   "execution_count": 158,
   "id": "1bf3e87c-7a3c-4760-8dcc-f928dd26d4fb",
   "metadata": {},
   "outputs": [],
   "source": [
    "df['text']=df['text'].str.lower().replace(r'^\\w\\s',' ').replace(r'\\n',' ',regex=True)"
   ]
  },
  {
   "cell_type": "code",
   "execution_count": 160,
   "id": "37b33f75-5cdf-408e-bb96-9f5e6065b3de",
   "metadata": {},
   "outputs": [
    {
     "data": {
      "text/plain": [
       "0    glad tidings  \\r words by ray boltz, steve mil...\n",
       "1    the heart is a bloom  \\r shoots up through the...\n",
       "2    to hold me closer or set me free  \\r to trust ...\n",
       "3    can you see me, are you near me?  \\r can you h...\n",
       "4    walk in silence,  \\r don't walk away, in silen...\n",
       "Name: text, dtype: object"
      ]
     },
     "execution_count": 160,
     "metadata": {},
     "output_type": "execute_result"
    }
   ],
   "source": [
    "df['text'].head(5)"
   ]
  },
  {
   "cell_type": "markdown",
   "id": "8c142c35-9f57-49de-ade8-db63f70a1dfb",
   "metadata": {},
   "source": [
    "TOKENIZATION = CONVERT TOKEN TO VECTOR TO FETCH THE DATA "
   ]
  },
  {
   "cell_type": "markdown",
   "id": "f52c82bd-0791-4514-a457-dc13081752f0",
   "metadata": {},
   "source": [
    "SIMILAR WORDS IN SINGLE WORD= REMOVING THEM"
   ]
  },
  {
   "cell_type": "markdown",
   "id": "4621c211-62fb-40a8-8f22-761d030dd5d0",
   "metadata": {},
   "source": [
    "SIMILARITY\n"
   ]
  },
  {
   "cell_type": "code",
   "execution_count": 165,
   "id": "223d5f56-8762-4883-bc12-e39b2f113dcb",
   "metadata": {},
   "outputs": [
    {
     "data": {
      "text/html": [
       "<div>\n",
       "<style scoped>\n",
       "    .dataframe tbody tr th:only-of-type {\n",
       "        vertical-align: middle;\n",
       "    }\n",
       "\n",
       "    .dataframe tbody tr th {\n",
       "        vertical-align: top;\n",
       "    }\n",
       "\n",
       "    .dataframe thead th {\n",
       "        text-align: right;\n",
       "    }\n",
       "</style>\n",
       "<table border=\"1\" class=\"dataframe\">\n",
       "  <thead>\n",
       "    <tr style=\"text-align: right;\">\n",
       "      <th></th>\n",
       "      <th>artist</th>\n",
       "      <th>song</th>\n",
       "      <th>text</th>\n",
       "    </tr>\n",
       "  </thead>\n",
       "  <tbody>\n",
       "    <tr>\n",
       "      <th>0</th>\n",
       "      <td>Ray Boltz</td>\n",
       "      <td>Glad Tidings</td>\n",
       "      <td>glad tidings  \\r words by ray boltz, steve mil...</td>\n",
       "    </tr>\n",
       "    <tr>\n",
       "      <th>1</th>\n",
       "      <td>U2</td>\n",
       "      <td>Beautiful Day</td>\n",
       "      <td>the heart is a bloom  \\r shoots up through the...</td>\n",
       "    </tr>\n",
       "    <tr>\n",
       "      <th>2</th>\n",
       "      <td>Point Of Grace</td>\n",
       "      <td>I Wish</td>\n",
       "      <td>to hold me closer or set me free  \\r to trust ...</td>\n",
       "    </tr>\n",
       "    <tr>\n",
       "      <th>3</th>\n",
       "      <td>Black Sabbath</td>\n",
       "      <td>Anno Mundi</td>\n",
       "      <td>can you see me, are you near me?  \\r can you h...</td>\n",
       "    </tr>\n",
       "    <tr>\n",
       "      <th>4</th>\n",
       "      <td>New Order</td>\n",
       "      <td>Atmosphere</td>\n",
       "      <td>walk in silence,  \\r don't walk away, in silen...</td>\n",
       "    </tr>\n",
       "    <tr>\n",
       "      <th>...</th>\n",
       "      <td>...</td>\n",
       "      <td>...</td>\n",
       "      <td>...</td>\n",
       "    </tr>\n",
       "    <tr>\n",
       "      <th>4995</th>\n",
       "      <td>Procol Harum</td>\n",
       "      <td>All This And More</td>\n",
       "      <td>it's not that i'm so cheerful, though i'll alw...</td>\n",
       "    </tr>\n",
       "    <tr>\n",
       "      <th>4996</th>\n",
       "      <td>John Martyn</td>\n",
       "      <td>Go Down Easy</td>\n",
       "      <td>you curl around me  \\r like a fern in the spri...</td>\n",
       "    </tr>\n",
       "    <tr>\n",
       "      <th>4997</th>\n",
       "      <td>Harry Belafonte</td>\n",
       "      <td>Angelina</td>\n",
       "      <td>angelina, angelina, please bring down your con...</td>\n",
       "    </tr>\n",
       "    <tr>\n",
       "      <th>4998</th>\n",
       "      <td>Kate Bush</td>\n",
       "      <td>Don't Give Up</td>\n",
       "      <td>\"don't give up\" by peter gabriel with kate bus...</td>\n",
       "    </tr>\n",
       "    <tr>\n",
       "      <th>4999</th>\n",
       "      <td>Bruce Springsteen</td>\n",
       "      <td>For You</td>\n",
       "      <td>princess cards she sends me with her regards  ...</td>\n",
       "    </tr>\n",
       "  </tbody>\n",
       "</table>\n",
       "<p>5000 rows × 3 columns</p>\n",
       "</div>"
      ],
      "text/plain": [
       "                 artist               song  \\\n",
       "0             Ray Boltz       Glad Tidings   \n",
       "1                    U2      Beautiful Day   \n",
       "2        Point Of Grace             I Wish   \n",
       "3         Black Sabbath         Anno Mundi   \n",
       "4             New Order         Atmosphere   \n",
       "...                 ...                ...   \n",
       "4995       Procol Harum  All This And More   \n",
       "4996        John Martyn       Go Down Easy   \n",
       "4997    Harry Belafonte           Angelina   \n",
       "4998          Kate Bush      Don't Give Up   \n",
       "4999  Bruce Springsteen            For You   \n",
       "\n",
       "                                                   text  \n",
       "0     glad tidings  \\r words by ray boltz, steve mil...  \n",
       "1     the heart is a bloom  \\r shoots up through the...  \n",
       "2     to hold me closer or set me free  \\r to trust ...  \n",
       "3     can you see me, are you near me?  \\r can you h...  \n",
       "4     walk in silence,  \\r don't walk away, in silen...  \n",
       "...                                                 ...  \n",
       "4995  it's not that i'm so cheerful, though i'll alw...  \n",
       "4996  you curl around me  \\r like a fern in the spri...  \n",
       "4997  angelina, angelina, please bring down your con...  \n",
       "4998  \"don't give up\" by peter gabriel with kate bus...  \n",
       "4999  princess cards she sends me with her regards  ...  \n",
       "\n",
       "[5000 rows x 3 columns]"
      ]
     },
     "execution_count": 165,
     "metadata": {},
     "output_type": "execute_result"
    }
   ],
   "source": [
    "df"
   ]
  },
  {
   "cell_type": "code",
   "execution_count": 167,
   "id": "61446c2b-2038-4c53-ad26-b3727b7902cb",
   "metadata": {},
   "outputs": [
    {
     "name": "stdout",
     "output_type": "stream",
     "text": [
      "Requirement already satisfied: nltk in c:\\users\\hp\\anaconda3\\lib\\site-packages (3.9.1)\n",
      "Requirement already satisfied: click in c:\\users\\hp\\anaconda3\\lib\\site-packages (from nltk) (8.1.7)\n",
      "Requirement already satisfied: joblib in c:\\users\\hp\\anaconda3\\lib\\site-packages (from nltk) (1.4.2)\n",
      "Requirement already satisfied: regex>=2021.8.3 in c:\\users\\hp\\anaconda3\\lib\\site-packages (from nltk) (2024.9.11)\n",
      "Requirement already satisfied: tqdm in c:\\users\\hp\\anaconda3\\lib\\site-packages (from nltk) (4.66.5)\n",
      "Requirement already satisfied: colorama in c:\\users\\hp\\anaconda3\\lib\\site-packages (from click->nltk) (0.4.6)\n"
     ]
    }
   ],
   "source": [
    "!pip install nltk"
   ]
  },
  {
   "cell_type": "code",
   "execution_count": 169,
   "id": "0ae70450-5f39-49ac-9d19-b8ce20bced27",
   "metadata": {},
   "outputs": [
    {
     "name": "stdout",
     "output_type": "stream",
     "text": [
      "you are beauti beauti\n"
     ]
    }
   ],
   "source": [
    "from nltk.stem import PorterStemmer\n",
    "\n",
    "stemmer = PorterStemmer()\n",
    "def token(text):\n",
    "    # Simple tokenization by splitting on spaces and removing punctuation\n",
    "    tokens = text.lower().replace(',', ' ').split()\n",
    "    a = [stemmer.stem(w) for w in tokens]\n",
    "    return \" \".join(a)\n",
    "\n",
    "print(token(\"You are beautiful, beauty\"))"
   ]
  },
  {
   "cell_type": "code",
   "execution_count": 171,
   "id": "c59a3ebd-3de9-413f-bc50-376544113cd6",
   "metadata": {},
   "outputs": [
    {
     "data": {
      "text/plain": [
       "0       glad tide word by ray boltz steve millikan and...\n",
       "1       the heart is a bloom shoot up through the ston...\n",
       "2       to hold me closer or set me free to trust comp...\n",
       "3       can you see me are you near me? can you hear m...\n",
       "4       walk in silenc don't walk away in silence. see...\n",
       "                              ...                        \n",
       "4995    it' not that i'm so cheer though i'll alway ra...\n",
       "4996    you curl around me like a fern in the spring l...\n",
       "4997    angelina angelina pleas bring down your concer...\n",
       "4998    \"don't give up\" by peter gabriel with kate bus...\n",
       "4999    princess card she send me with her regard barr...\n",
       "Name: text, Length: 5000, dtype: object"
      ]
     },
     "execution_count": 171,
     "metadata": {},
     "output_type": "execute_result"
    }
   ],
   "source": [
    "df['text'].apply(lambda x: token(x))"
   ]
  },
  {
   "cell_type": "code",
   "execution_count": 172,
   "id": "f8fa5739-e818-49f9-82f8-3f12d8f01f41",
   "metadata": {},
   "outputs": [],
   "source": [
    "from sklearn.feature_extraction.text import TfidfVectorizer\n",
    "from sklearn.metrics.pairwise import cosine_similarity"
   ]
  },
  {
   "cell_type": "code",
   "execution_count": 175,
   "id": "d679a37e-7340-4ad9-8487-eb84cb1c1c92",
   "metadata": {},
   "outputs": [],
   "source": [
    "Tfid=TfidfVectorizer(analyzer='word',stop_words='english')"
   ]
  },
  {
   "cell_type": "code",
   "execution_count": 177,
   "id": "b3ebbc35-c823-460a-8fce-f2e3ea7c1b88",
   "metadata": {},
   "outputs": [],
   "source": [
    "matrix=Tfid.fit_transform(df['text'])"
   ]
  },
  {
   "cell_type": "code",
   "execution_count": 179,
   "id": "2a106b4e-719c-43fa-a084-2c4bf5c1e8e0",
   "metadata": {},
   "outputs": [],
   "source": [
    "similar=cosine_similarity(matrix)"
   ]
  },
  {
   "cell_type": "code",
   "execution_count": 181,
   "id": "174262c2-729c-4065-86a2-5ca994b65b36",
   "metadata": {},
   "outputs": [
    {
     "data": {
      "text/plain": [
       "array([1.        , 0.03301897, 0.        , ..., 0.02071086, 0.01935643,\n",
       "       0.02145781])"
      ]
     },
     "execution_count": 181,
     "metadata": {},
     "output_type": "execute_result"
    }
   ],
   "source": [
    "similar[0]"
   ]
  },
  {
   "cell_type": "markdown",
   "id": "bb917c2f-2867-49f1-bc8d-ecb1ad71f82b",
   "metadata": {},
   "source": [
    "RECOMMENDER SYSTEM"
   ]
  },
  {
   "cell_type": "code",
   "execution_count": 186,
   "id": "2a53b4d4-f529-4c41-8a9c-aa45a4c01da2",
   "metadata": {},
   "outputs": [
    {
     "data": {
      "text/plain": [
       "4998"
      ]
     },
     "execution_count": 186,
     "metadata": {},
     "output_type": "execute_result"
    }
   ],
   "source": [
    "df[df['song']==\"Don't Give Up\"].index[0]"
   ]
  },
  {
   "cell_type": "code",
   "execution_count": 188,
   "id": "e45e5e46-0368-47e7-89dc-162cf70f3b75",
   "metadata": {},
   "outputs": [],
   "source": [
    "def recommender(song):\n",
    "    index=df[df['song']==song].index[0]\n",
    "    dist=sorted(list(enumerate(similar[index])), reverse=True, key=lambda x:x[1])\n",
    "    songs=[]\n",
    "    for s_id in dist[1:5]:\n",
    "        songs.append(df.iloc[s_id[0]].song)\n",
    "    return songs"
   ]
  },
  {
   "cell_type": "code",
   "execution_count": 190,
   "id": "450474f0-9d03-4b3d-8d3a-1a5bbc6d722e",
   "metadata": {},
   "outputs": [
    {
     "data": {
      "text/plain": [
       "[\"Don't Say Goodbye\",\n",
       " \"Don't Take Me Down\",\n",
       " \"She's Too Good For Me\",\n",
       " \"Don't Fight It\"]"
      ]
     },
     "execution_count": 190,
     "metadata": {},
     "output_type": "execute_result"
    }
   ],
   "source": [
    "recommender(\"Don't Give Up\")"
   ]
  },
  {
   "cell_type": "code",
   "execution_count": 192,
   "id": "3fcb477f-0e23-4c14-bfdf-14f28b6d0ddc",
   "metadata": {},
   "outputs": [],
   "source": [
    "import pickle"
   ]
  },
  {
   "cell_type": "code",
   "execution_count": 194,
   "id": "e3179c09-1dd6-4273-8d29-928417d3232f",
   "metadata": {},
   "outputs": [],
   "source": [
    "pickle.dump(similar,open(\"similarity\",\"wb\"))"
   ]
  },
  {
   "cell_type": "code",
   "execution_count": 196,
   "id": "beb5eab8-a7ab-40ec-897c-a500a95ad8cd",
   "metadata": {},
   "outputs": [],
   "source": [
    "pickle.dump(df,open(\"df\",\"wb\"))"
   ]
  },
  {
   "cell_type": "code",
   "execution_count": null,
   "id": "a446bb32-8f4d-4b43-bea3-eed6c75c1d98",
   "metadata": {},
   "outputs": [],
   "source": []
  }
 ],
 "metadata": {
  "kernelspec": {
   "display_name": "Python 3 (ipykernel)",
   "language": "python",
   "name": "python3"
  },
  "language_info": {
   "codemirror_mode": {
    "name": "ipython",
    "version": 3
   },
   "file_extension": ".py",
   "mimetype": "text/x-python",
   "name": "python",
   "nbconvert_exporter": "python",
   "pygments_lexer": "ipython3",
   "version": "3.12.7"
  }
 },
 "nbformat": 4,
 "nbformat_minor": 5
}
